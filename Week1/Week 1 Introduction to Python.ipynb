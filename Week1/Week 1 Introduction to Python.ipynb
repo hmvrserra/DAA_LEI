{
 "cells": [
  {
   "cell_type": "markdown",
   "metadata": {
    "id": "VcSInYTElk3Y"
   },
   "source": [
    "<p style='text-align:right;margin-bottom:18.0pt'><b><span style='font-size:10.0pt;font-family:\n",
    "\"Arial\",sans-serif'>Source:</span></b><span style='font-size:10.0pt;font-family:\n",
    "\"Arial\",sans-serif'> Caroline Conti (with portions from Mary Wootters + Nima Anari + Ana Almeida)</span></p>\n",
    "\n",
    "<header style='background-color:#3498DB;padding:18.0px;text-align:center;font-size:22px;color:white;font-family:\"Arial\",sans-serif'>\n",
    "<h2>Iscte – Instituto Universitário de Lisboa </h2>\n",
    "<h2><span style='font-size:20.0pt'>Desenho e Analise de Algoritmos (2023/2024)</span></h2>\n",
    "</header>"
   ]
  },
  {
   "cell_type": "markdown",
   "metadata": {
    "id": "LSFd5DHQlk3a"
   },
   "source": [
    "# Breve introdução ao Python\n",
    "\n",
    "IPython notebook de apoio para a familiarização com a linguagem de programação Python.\n",
    "\n",
    "Este notebook contém apenas um resumo do que é necessário saber para conseguir resolver os exercícios da Semana 1.\n",
    "\n",
    "\n",
    "Para começar, basta experimentar executar as células seguintes.\n"
   ]
  },
  {
   "cell_type": "markdown",
   "metadata": {
    "id": "z4wBe6WXlk3b"
   },
   "source": [
    "<font size=\"4\"> <div class=\"alert alert-success\" role=\"alert\"> \n",
    "    ### Para executar uma célula, basta clicar Shift+Enter.\n",
    "</div></font>"
   ]
  },
  {
   "cell_type": "code",
   "metadata": {
    "colab": {
     "base_uri": "https://localhost:8080/"
    },
    "id": "fqpPfzoClk3b",
    "outputId": "339de229-687a-4432-f7dc-29496254f0a2",
    "ExecuteTime": {
     "end_time": "2025-02-11T19:57:05.186079Z",
     "start_time": "2025-02-11T19:57:05.182123Z"
    }
   },
   "source": [
    "print(\"Hello World!\")  # Hello world is really easy in python!"
   ],
   "outputs": [
    {
     "name": "stdout",
     "output_type": "stream",
     "text": [
      "Hello World!\n"
     ]
    }
   ],
   "execution_count": 1
  },
  {
   "cell_type": "markdown",
   "metadata": {},
   "source": [
    "## Variáveis\n",
    "\n",
    "Python é uma linguagem de tipagem dinâmica, o que significa que os tipos das variáveis só são declarados quando lhes é atribuído um valor. O tipo da variável pode mudar a cada nova atribuição.\n",
    "\n",
    "> Por este motivo, é aconselhável escolher nomes de variáveis significativos e utilizá-los de forma consistente."
   ]
  },
  {
   "cell_type": "code",
   "metadata": {
    "ExecuteTime": {
     "end_time": "2025-02-11T19:57:51.900359Z",
     "start_time": "2025-02-11T19:57:51.896628Z"
    }
   },
   "source": [
    "name = \"John Doe\"\n",
    "type(name)"
   ],
   "outputs": [
    {
     "data": {
      "text/plain": [
       "str"
      ]
     },
     "execution_count": 2,
     "metadata": {},
     "output_type": "execute_result"
    }
   ],
   "execution_count": 2
  },
  {
   "cell_type": "code",
   "metadata": {
    "ExecuteTime": {
     "end_time": "2025-02-11T19:57:55.136145Z",
     "start_time": "2025-02-11T19:57:55.133177Z"
    }
   },
   "source": [
    "name = 2\n",
    "type(name)"
   ],
   "outputs": [
    {
     "data": {
      "text/plain": [
       "int"
      ]
     },
     "execution_count": 3,
     "metadata": {},
     "output_type": "execute_result"
    }
   ],
   "execution_count": 3
  },
  {
   "cell_type": "code",
   "execution_count": null,
   "metadata": {},
   "outputs": [],
   "source": [
    "c = '''Jo\\\n",
    "hn\n",
    "Doe''' # String em multiplas linhas\n",
    "print(c)\n",
    "type(c)"
   ]
  },
  {
   "cell_type": "code",
   "execution_count": null,
   "metadata": {},
   "outputs": [],
   "source": [
    "a, b, c = 1, True, 'three' # Pode-se atribuir múltiplos valores em simultâneo\n",
    "print(a)\n",
    "print(b)\n",
    "print(c)"
   ]
  },
  {
   "cell_type": "markdown",
   "metadata": {},
   "source": [
    "Para incrementar e decrementar variáveis, deve usar os seguintes operadores de atribuição:"
   ]
  },
  {
   "cell_type": "code",
   "execution_count": null,
   "metadata": {},
   "outputs": [],
   "source": [
    "x = 0\n",
    "x += 1 # x é 1\n",
    "x -= 1 # x é 0 novamente"
   ]
  },
  {
   "cell_type": "markdown",
   "metadata": {},
   "source": [
    "## Operadores\n",
    "Alguns exemplos de operadores Python que são diferentes daqueles que já conhece do Java:"
   ]
  },
  {
   "cell_type": "code",
   "execution_count": null,
   "metadata": {},
   "outputs": [],
   "source": [
    "x = 1 / 2  # divisao em vírgula flutuante\n",
    "print(x)\n",
    "y = 1 // 2 # divisão inteira\n",
    "print(y)"
   ]
  },
  {
   "cell_type": "code",
   "execution_count": null,
   "metadata": {},
   "outputs": [],
   "source": [
    "x = -3 / 2  # divisao em vírgula flutuante\n",
    "print(x)\n",
    "y = -3 // 2 # divisão inteira\n",
    "print(y)"
   ]
  },
  {
   "cell_type": "code",
   "execution_count": null,
   "metadata": {},
   "outputs": [],
   "source": [
    "z = y ** 3 # potência\n",
    "print(z)"
   ]
  },
  {
   "cell_type": "code",
   "execution_count": null,
   "metadata": {},
   "outputs": [],
   "source": [
    "a = 'to be, '\n",
    "b = \"or not to be\"\n",
    "a + b # concatena as strings"
   ]
  },
  {
   "cell_type": "code",
   "execution_count": null,
   "metadata": {},
   "outputs": [],
   "source": [
    "c = (\"py\" 'thon') # concatena strings literais, mesmo em linhas diferentes\n",
    "print(c) "
   ]
  },
  {
   "cell_type": "code",
   "execution_count": null,
   "metadata": {},
   "outputs": [],
   "source": [
    "n = 2          \n",
    "string = 'repete '\n",
    "n * string # repete uma string n vezes"
   ]
  },
  {
   "cell_type": "code",
   "execution_count": null,
   "metadata": {},
   "outputs": [],
   "source": [
    "# Exemplos de operações lógicas\n",
    "a = 4 > 0 \n",
    "print(a)\n",
    "\n",
    "# Strings são comparadas lexicograficamente, ou seja,\n",
    "# em ordem alfabética, letra por letra.\n",
    "b = \"abacate\" > \"banana\" \n",
    "print(b)\n",
    "\n",
    "# Expressões lógicas podem ser combinadas para produzir\n",
    "# expressões mais complexas.\n",
    "m = k = 7\n",
    "print(m <= k and k <= m) "
   ]
  },
  {
   "cell_type": "markdown",
   "metadata": {},
   "source": [
    "Algumas funções matemáticas comuns:"
   ]
  },
  {
   "cell_type": "code",
   "execution_count": null,
   "metadata": {},
   "outputs": [],
   "source": [
    "abs(x) # valor absoluto"
   ]
  },
  {
   "cell_type": "code",
   "execution_count": null,
   "metadata": {},
   "outputs": [],
   "source": [
    "round(x)"
   ]
  },
  {
   "cell_type": "markdown",
   "metadata": {},
   "source": [
    "Conversão de tipos:"
   ]
  },
  {
   "cell_type": "code",
   "execution_count": null,
   "metadata": {},
   "outputs": [],
   "source": [
    "# Converte inteiro para string\n",
    "x = 10\n",
    "s = str(x)\n",
    "print(type(s))\n",
    "\n",
    "# Converte float para inteiro\n",
    "a = 2.5\n",
    "b = int(a)\n",
    "print(b)\n",
    "\n",
    "# Converte inteiro para float\n",
    "c = 2\n",
    "d = float(c)\n",
    "print(d)"
   ]
  },
  {
   "cell_type": "markdown",
   "metadata": {},
   "source": [
    "## Condicionais e Controlo de Fluxo\n",
    "Os blocos de código em Python são delimitados pelo seu nível de indentação!\n",
    "\n",
    "Alguns exemplos:"
   ]
  },
  {
   "cell_type": "code",
   "metadata": {
    "ExecuteTime": {
     "end_time": "2025-02-11T20:02:23.425807Z",
     "start_time": "2025-02-11T20:02:23.423299Z"
    }
   },
   "source": [
    "condition = True\n",
    "\n",
    "if condition == True:\n",
    "    print(\"A condition é verdadeira.\")\n",
    "else:\n",
    "    print(\"A condition é falsa.\")"
   ],
   "outputs": [
    {
     "name": "stdout",
     "output_type": "stream",
     "text": [
      "A condition é verdadeira.\n"
     ]
    }
   ],
   "execution_count": 7
  },
  {
   "cell_type": "code",
   "metadata": {
    "ExecuteTime": {
     "end_time": "2025-02-11T20:03:02.705329Z",
     "start_time": "2025-02-11T20:03:02.702568Z"
    }
   },
   "source": [
    "condition_1 = False\n",
    "condition_2 = False\n",
    "\n",
    "if condition_1:\n",
    "  print(\"A condition_1 é verdadeira.\")\n",
    "elif condition_2:\n",
    "  print(\"A condition_2 é verdadeira.\")\n",
    "else:\n",
    "  print(\"As condições condition_1 e condition_2 são falsas.\")"
   ],
   "outputs": [
    {
     "name": "stdout",
     "output_type": "stream",
     "text": [
      "A condition_1 é verdadeira.\n"
     ]
    }
   ],
   "execution_count": 14
  },
  {
   "cell_type": "code",
   "metadata": {
    "ExecuteTime": {
     "end_time": "2025-02-11T20:02:48.214811Z",
     "start_time": "2025-02-11T20:02:48.212353Z"
    }
   },
   "source": [
    "# Percorrer uma lista de números\n",
    "print(\"Números na lista: \")\n",
    "for number in [1, 1, 2, 3, 5, 8, 13]:\n",
    "    print(number, end=\" \")"
   ],
   "outputs": [
    {
     "name": "stdout",
     "output_type": "stream",
     "text": [
      "Números na lista: \n",
      "1 1 2 3 5 8 13 "
     ]
    }
   ],
   "execution_count": 11
  },
  {
   "cell_type": "markdown",
   "metadata": {},
   "source": [
    "## Listas\n",
    "Alguns exemplos:"
   ]
  },
  {
   "cell_type": "code",
   "execution_count": null,
   "metadata": {
    "colab": {
     "base_uri": "https://localhost:8080/"
    },
    "id": "5BpFQAmKlk3c",
    "outputId": "51a7b454-9090-46db-e56b-a669bb994641"
   },
   "outputs": [],
   "source": [
    "list_1 = ['a', 'b', 3, 'c', 'f', 'e', 4] # A é uma list.  \n",
    "print(list_1) "
   ]
  },
  {
   "cell_type": "code",
   "execution_count": null,
   "metadata": {
    "colab": {
     "base_uri": "https://localhost:8080/"
    },
    "id": "5LnAHp65lk3c",
    "outputId": "390a2fc7-df7f-46f1-fdee-a0a03b0e7945"
   },
   "outputs": [],
   "source": [
    "print(len(list_1)) # dimensão da list(quantidade de entradas na list)"
   ]
  },
  {
   "cell_type": "code",
   "execution_count": null,
   "metadata": {},
   "outputs": [],
   "source": [
    "list_1[0] # primeira posição na lista"
   ]
  },
  {
   "cell_type": "code",
   "execution_count": null,
   "metadata": {},
   "outputs": [],
   "source": [
    "list_1[len(list_1)] # E a última posição, qual será?"
   ]
  },
  {
   "cell_type": "markdown",
   "metadata": {},
   "source": [
    "> _**Nota:**_ \n",
    ">* A lista está sempre definida entre <b>$0$</b> e até <b>$n-1$</b> onde <b>$n = len(list)$</b>. <br>\n",
    "\n"
   ]
  },
  {
   "cell_type": "markdown",
   "metadata": {},
   "source": [
    "**Porém**, listas no Python podem ser indexadas com índices negativos, por exemplo: "
   ]
  },
  {
   "cell_type": "code",
   "execution_count": null,
   "metadata": {},
   "outputs": [],
   "source": [
    "list_1[-2] # indice do penúltimo elemento"
   ]
  },
  {
   "cell_type": "markdown",
   "metadata": {},
   "source": [
    "### Segmentação (*Slicing*)\n",
    "É possivel aceder à subporções da lista:"
   ]
  },
  {
   "cell_type": "code",
   "execution_count": null,
   "metadata": {
    "colab": {
     "base_uri": "https://localhost:8080/"
    },
    "id": "FSZvCdwblk3d",
    "outputId": "562b873a-9435-4958-e5a3-35eb12ecbc25"
   },
   "outputs": [],
   "source": [
    "print(f'Lista original: {list_1}')\n",
    "# slicing up:\n",
    "print(list_1[2:4]) # sublista de [list_1[2],list_1[3]] (não inclui list_1[4])\n",
    "print(list_1[2:])  # inicia em list_1[2] até ao último elemento\n",
    "print(list_1[:4])  # inicia no primeiro elemento (índice 0) até list_1[3]"
   ]
  },
  {
   "cell_type": "code",
   "execution_count": null,
   "metadata": {},
   "outputs": [],
   "source": [
    "list_1 = list_1[:]      # cópia (shallow) da lista\n",
    "list_1[2] = 'new'\n",
    "print(list_1)"
   ]
  },
  {
   "cell_type": "code",
   "execution_count": null,
   "metadata": {},
   "outputs": [],
   "source": [
    "list_3 = list(list_1[:])      # cópia (deep) da lista\n",
    "list_1[3] = 'new2'\n",
    "print(list_1)\n",
    "print(list_3)"
   ]
  },
  {
   "cell_type": "markdown",
   "metadata": {},
   "source": [
    "É possivel utilizar indices negativos aqui também:"
   ]
  },
  {
   "cell_type": "code",
   "execution_count": null,
   "metadata": {
    "colab": {
     "base_uri": "https://localhost:8080/"
    },
    "id": "FSZvCdwblk3d",
    "outputId": "562b873a-9435-4958-e5a3-35eb12ecbc25"
   },
   "outputs": [],
   "source": [
    "print(list_1[-4:-1]) # inicia em list_1[-4] e vai até list_1[-2] (não inclui list_1[-1])\n",
    "print(list_1[-2:])  # inicia em list_1[-2] até ao último elemento\n",
    "print(list_1[::-1])  # lista em ordem inversa"
   ]
  },
  {
   "cell_type": "code",
   "execution_count": null,
   "metadata": {
    "id": "AEcl_rEUlk3e",
    "outputId": "3b56512c-c374-4870-c819-82cb2a17493a"
   },
   "outputs": [],
   "source": [
    "list_1.append(7) # Insere no final da lista \n",
    "print(list_1)"
   ]
  },
  {
   "cell_type": "markdown",
   "metadata": {},
   "source": [
    "**Q:** O que acontece se executar a célula anterior mais que uma vez??"
   ]
  },
  {
   "cell_type": "code",
   "execution_count": null,
   "metadata": {
    "id": "HDsiLGYzlk3e",
    "outputId": "115bbd77-6ab1-4452-fff2-f2935d596bbe"
   },
   "outputs": [],
   "source": [
    "list_1 = list_1[:7] # E se o último indice for menor que (7-1 = 6)?\n",
    "print(list_1)"
   ]
  },
  {
   "cell_type": "code",
   "execution_count": null,
   "metadata": {
    "id": "WOWt4hetlk3f",
    "outputId": "b6e4ff5f-3b58-4c35-f134-9f28d38508d4"
   },
   "outputs": [],
   "source": [
    "for x in list_1:  # uma list é iterável\n",
    "    print(2*x)"
   ]
  },
  {
   "cell_type": "markdown",
   "metadata": {},
   "source": [
    "> _**Nota:**_ As operações de slicing também se aplicam para strings (tipo `str`)"
   ]
  },
  {
   "cell_type": "markdown",
   "metadata": {},
   "source": [
    "<font size=\"4\"> <div class=\"alert alert-success\" role=\"alert\">\n",
    "    Esta é uma boa altura para apresentar a documentação oficial para *Python* em \n",
    "    https://docs.python.org/3/contents.html\n",
    "    \n",
    "</div></font>\n",
    "\n",
    "Em particular, o link para as operações nativas com o tipo de dados *list* é https://docs.python.org/3/tutorial/datastructures.html"
   ]
  },
  {
   "cell_type": "markdown",
   "metadata": {},
   "source": [
    "### Função range"
   ]
  },
  {
   "cell_type": "code",
   "execution_count": null,
   "metadata": {
    "id": "aYSdBteDlk3g",
    "outputId": "8d3b3b2d-bfa3-47e0-ff07-30ab28f6a3d7"
   },
   "outputs": [],
   "source": [
    "T = range(5)  # A função range(X) devolve um modo de iterar (um iterável) usando inteiros a partir de zero\n",
    "for x in T:\n",
    "    print(x)"
   ]
  },
  {
   "cell_type": "code",
   "execution_count": null,
   "metadata": {
    "id": "6G3Zxl3zlk3g",
    "outputId": "93af1085-e3d7-423c-8b59-34645fb2897c",
    "scrolled": true
   },
   "outputs": [],
   "source": [
    "for i in range(len(list_1)):  # Podemos usar a função range para iterar sobre uma lista\n",
    "    print(list_1[i])"
   ]
  },
  {
   "cell_type": "code",
   "execution_count": null,
   "metadata": {
    "id": "7S7NcBJulk3h",
    "outputId": "f32a062f-ea79-432f-bcfe-07e657027c60"
   },
   "outputs": [],
   "source": [
    "list_2 = [] # INICIALIZAÇÃO para uma list vazia (empty list)\n",
    "len(list_2)"
   ]
  },
  {
   "cell_type": "code",
   "execution_count": null,
   "metadata": {},
   "outputs": [],
   "source": [
    "for x in list_1:\n",
    "    list_2.append(2*x)  # Insere no final da lista\n",
    "print(list_2)"
   ]
  },
  {
   "cell_type": "code",
   "execution_count": null,
   "metadata": {
    "id": "F-K9_DWGlk3h",
    "outputId": "7e6068a3-17a1-4a91-fecb-faa2db18a86e"
   },
   "outputs": [],
   "source": [
    "list_3 = [ 2*x for x in list_1 ] # List comprehension\n",
    "# Equivalente ao for anterior mas condensado:  usando apenas uma linha\n",
    "print(list_3)\n"
   ]
  },
  {
   "cell_type": "markdown",
   "metadata": {},
   "source": [
    "## Funções e Procedimentos\n",
    "Funções em Python são definidas por meio da seguinte sintaxe:\n",
    "```python\n",
    "def nomedafuncao(arg1, arg2, ...):\n",
    "    corpodafuncao\n",
    "```"
   ]
  },
  {
   "cell_type": "code",
   "execution_count": null,
   "metadata": {},
   "outputs": [],
   "source": [
    "# Exemplo (bem simples) de função em Python.\n",
    "def power_of_two(n): # Definição de uma função >>>> NOTE QUE: não é necessário declarar os tipos dos argumentos.\n",
    "    return n ** 2\n",
    "\n",
    "power_of_two(10) "
   ]
  },
  {
   "cell_type": "markdown",
   "metadata": {},
   "source": [
    "Funções podem devolver mais que um valor:"
   ]
  },
  {
   "cell_type": "code",
   "execution_count": null,
   "metadata": {},
   "outputs": [],
   "source": [
    "# Exemplo de função que retorna mais de um valor.\n",
    "def div_mod(x, y):\n",
    "    quotient  = x // y\n",
    "    remainder = x % y\n",
    "    return (quotient, remainder)\n",
    "    \n",
    "print(\"Quociente e resto: \", div_mod(9, 4))"
   ]
  },
  {
   "cell_type": "markdown",
   "metadata": {},
   "source": [
    "Na verdade já existe uma função deste tipo no Python:"
   ]
  },
  {
   "cell_type": "code",
   "execution_count": null,
   "metadata": {},
   "outputs": [],
   "source": [
    "print(\"Quociente e resto: \", divmod(9, 4))"
   ]
  },
  {
   "cell_type": "markdown",
   "metadata": {},
   "source": [
    "Outro exemplo de função:"
   ]
  },
  {
   "cell_type": "code",
   "execution_count": null,
   "metadata": {
    "id": "mlMQNnwflk3h",
    "outputId": "0bf8d230-e881-4ed4-cb73-8a3ca11f9f7d"
   },
   "outputs": [],
   "source": [
    "def f(x,y):  # NOTE QUE: não é necessário declarar os tipos dos argumentos.\n",
    "    return 2*x + 2*y\n",
    "\n",
    "print(f(2,3))  # operadores * e + para inteiros\n",
    "print(f([1,2,3],[4,5,6]))  # versões de operadores para lists\n",
    "print(f([[1,2,3]],[[4,5,6]]))  # versões de operadores para lists\n",
    "print(f(\"hello \", \"world\"))  # e ainda outra versão para strings\n"
   ]
  },
  {
   "cell_type": "markdown",
   "metadata": {},
   "source": [
    "**Q:** O que acontece se fizer f(2, \"aqui há gato\")?"
   ]
  },
  {
   "cell_type": "code",
   "execution_count": null,
   "metadata": {},
   "outputs": [],
   "source": [
    "f(2, \"aqui há gato!\")"
   ]
  },
  {
   "cell_type": "markdown",
   "metadata": {},
   "source": [
    "### Funções de alto nível\n",
    "São funções que recebem outras funções como argumento.\n",
    "\n",
    "Um exemplo é a função `map` que aplica uma função a um conjunto de valores numa coleção. No exemplo abaixo, a função `map` é utilizada para aplicar outra função (`power_of_two`) a todos os elementos de uma lista."
   ]
  },
  {
   "cell_type": "code",
   "execution_count": null,
   "metadata": {},
   "outputs": [],
   "source": [
    "result = list(map(power_of_two, range(5)))\n",
    "print(result)"
   ]
  },
  {
   "cell_type": "markdown",
   "metadata": {},
   "source": [
    "Abaixo, temos uma função equivalente:"
   ]
  },
  {
   "cell_type": "code",
   "execution_count": null,
   "metadata": {
    "scrolled": true
   },
   "outputs": [],
   "source": [
    "def my_map(function, collection):\n",
    "    result = []\n",
    "    for item in collection:\n",
    "        result.append(function(item))\n",
    "    return result\n",
    "\n",
    "result = my_map(power_of_two, range(5))\n",
    "print(result)"
   ]
  },
  {
   "cell_type": "markdown",
   "metadata": {},
   "source": [
    "### Função lambda\n",
    "Uma função lambda em Python é uma função anónima, ou seja, uma função que não tem nome. As funções lambda são definidas usando a palavra-chave `lambda`, seguida de um ou mais argumentos e uma expressão:\n",
    "```python\n",
    "lambda arg1, arg2, ... : expressão\n",
    "```\n",
    "\n",
    "\n",
    "\n",
    "As funções lambda podem ser utilizadas para definir funções pequenas e simples que só são utilizadas uma vez. Por exemplo:"
   ]
  },
  {
   "cell_type": "code",
   "execution_count": null,
   "metadata": {},
   "outputs": [],
   "source": [
    "result = list(map(lambda x : x ** 2, range(5)))\n",
    "print(result)"
   ]
  },
  {
   "cell_type": "markdown",
   "metadata": {
    "id": "ixIYME9Alk3h"
   },
   "source": [
    "<font size=\"4\"> <div class=\"alert alert-success\" role=\"alert\">\n",
    "    Para mais opções, no link seguinte pode encontrar um tutorial acessível:\n",
    "    \n",
    "    https://www.programiz.com/python-programming\n",
    "</div></font>\n"
   ]
  },
  {
   "cell_type": "code",
   "execution_count": null,
   "metadata": {},
   "outputs": [],
   "source": []
  }
 ],
 "metadata": {
  "colab": {
   "name": "preLecture2.ipynb",
   "provenance": []
  },
  "kernelspec": {
   "display_name": "Python 3 (ipykernel)",
   "language": "python",
   "name": "python3"
  },
  "language_info": {
   "codemirror_mode": {
    "name": "ipython",
    "version": 3
   },
   "file_extension": ".py",
   "mimetype": "text/x-python",
   "name": "python",
   "nbconvert_exporter": "python",
   "pygments_lexer": "ipython3",
   "version": "3.11.5"
  }
 },
 "nbformat": 4,
 "nbformat_minor": 1
}
