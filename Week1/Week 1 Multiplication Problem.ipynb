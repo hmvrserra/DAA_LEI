{
 "cells": [
  {
   "cell_type": "markdown",
   "metadata": {},
   "source": [
    "<p style='text-align:right;margin-bottom:18.0pt'><b><span style='font-size:10.0pt;font-family:\n",
    "\"Arial\",sans-serif'>Source:</span></b><span style='font-size:10.0pt;font-family:\n",
    "\"Arial\",sans-serif'> Mary Wootters + Nima Anari + Moses Charikar<b> | Last\n",
    "update: </b>Caroline Conti + Ana Almeida</span></p>\n",
    "\n",
    "<header style='background-color:#3498DB;padding:18.0px;text-align:center;font-size:22px;color:white;font-family:\"Arial\",sans-serif'>\n",
    "<h2>Iscte – Instituto Universitário de Lisboa </h2>\n",
    "<h2><span style='font-size:20.0pt'>Desenho e Analise de Algoritmos (2023/2024)</span></h2>\n",
    "</header>"
   ]
  },
  {
   "cell_type": "markdown",
   "metadata": {},
   "source": [
    "# Exercício: Multiplicação de inteiros\n",
    "\n",
    "IPython notebook de apoio para a resolução do exercício de multiplicação de números inteiros.\n",
    "Execute as células para visualizar os resultados.\n",
    "\n",
    "## Problema:\n",
    "\n",
    "Multiplicação de dois inteiros com $n$ dígitos.\n",
    "\n",
    "## Considerações: \n",
    "\n",
    "* Uma vez que estamos a tentar melhorar o algoritmo da multiplicação para números com muitos dígitos, devemos usar o operador de multiplicação $*$ **apenas** para efetuar produtos entre operandos de *um dígito* (vamos considerar que esta função não é muito custosa, como se estes valores já estivessem disponíveis). **Ex.:** $6 * 7$.  \n",
    "* Podemos usar o operador de adição $+$ para somar números com qualquer quantidade de dígitos (vamos considerar que o custo da operação da adição é desprezível)."
   ]
  },
  {
   "cell_type": "code",
   "execution_count": null,
   "metadata": {},
   "outputs": [],
   "source": [
    "# incluir modulos necessários\n",
    "%matplotlib inline\n",
    "import numpy as np\n",
    "import matplotlib.pyplot as plt\n",
    "import time\n",
    "from random import choice"
   ]
  },
  {
   "cell_type": "markdown",
   "metadata": {},
   "source": [
    "## Algumas funções auxiliares\n",
    "\n",
    "Funções para converter inteiros numa lista de dígitos (e vice-versa)"
   ]
  },
  {
   "cell_type": "code",
   "execution_count": null,
   "metadata": {},
   "outputs": [],
   "source": [
    "def getDigits(x):                       # takes an integer x and returns a list of digits, most significant first\n",
    "    return [ int(a) for a in str(x) ]   # comprehension expression\n",
    "\n",
    "def makeInt(digits):                 # takes a list of digits (as returned by getDigits) and returns the integer they represent\n",
    "    return sum( [ 10**(len(digits)-i-1)*digits[i] for i in range(len(digits))])"
   ]
  },
  {
   "cell_type": "markdown",
   "metadata": {},
   "source": [
    "Função usada para medir o tempo de execução de uma função em lote (*in a bunch*)"
   ]
  },
  {
   "cell_type": "code",
   "execution_count": null,
   "metadata": {},
   "outputs": [],
   "source": [
    "# multInABunch: runs a multiplication function a bunch, and times how long it takes.\n",
    "#\n",
    "# Input: myFn: a function which takes as input two n-digit integers\n",
    "#              (Notice that in python you can pass a function as input!)\n",
    "#        nVals: list of n values to test at\n",
    "# Output: lists nValues and tValues so that running myFn on a list of length nValues[i] took (on average over numTrials tests) time tValues[i] milliseconds.\n",
    "#\n",
    "# Other optional args:\n",
    "#    - numTrials: for each n tests, do numTrials tests and average them\n",
    "def multInABunch(myFn, nVals, numTrials=20):\n",
    "    nValues = []\n",
    "    tValues = []\n",
    "    for n in nVals:\n",
    "        # run myFn several times and average to get a decent idea.\n",
    "        runtime = 0\n",
    "        for t in range(numTrials):\n",
    "            lst1 = [ choice(range(10)) for i in range(n) ] # generate a random list of length n\n",
    "            lst2 = [ choice(range(10)) for i in range(n) ] # generate another random list of length n\n",
    "            X = makeInt(lst1)\n",
    "            Y = makeInt(lst2)\n",
    "            start = time.time()             # notice that we only start timing just before executing myFn()\n",
    "            myFn( X, Y )\n",
    "            end = time.time()               # and we stop the clock as soon as the execution of myFn() stops\n",
    "            runtime += (end - start) * 1000 # measure in milliseconds\n",
    "        runtime = runtime/numTrials\n",
    "        nValues.append(n)\n",
    "        tValues.append(runtime)\n",
    "    return nValues, tValues"
   ]
  },
  {
   "cell_type": "markdown",
   "metadata": {},
   "source": [
    "## *Baseline* -  Algoritmo da primária"
   ]
  },
  {
   "cell_type": "code",
   "execution_count": null,
   "metadata": {},
   "outputs": [],
   "source": [
    "# para cada par de dígitos, adicionar com shifts apropriados; \n",
    "# vai simular a operação manual feita no 1.º ciclo\n",
    "# Input: X e Y são os inteiros\n",
    "def gradeSchoolMult( X, Y ): # X (multiplicador) e Y (multiplicando)\n",
    "    x = getDigits(X)\n",
    "    y = getDigits(Y)\n",
    "    summands = []\n",
    "    for iXDigit in range(len(x)):        # para cada posição de dígito em X\n",
    "        xDigit = x[len(x) - iXDigit - 1] # digito em X\n",
    "        partialProd = [0 for i in range(iXDigit)]  # guarda o resultado de 'xDigit times y'; inicializa com zeros do shift\n",
    "        carry = 0 # \"e-vai-um\" \n",
    "        for iYDigit in range(len(y)):        # para cada posição de dígito em Y\n",
    "            yDigit = y[len(y) - iYDigit - 1] # digito em Y\n",
    "            newProd = getDigits( xDigit * yDigit + carry )\n",
    "            partialProd.insert( 0, newProd[-1] ) # colocar o próximo dígito das unidades no produto (à direita no z)\n",
    "            if len(newProd) > 1:       # \"e-vai-um\"\n",
    "                carry = newProd[0]\n",
    "            else:\n",
    "                carry = 0\n",
    "        partialProd.insert(0, carry)    # caso haja \"e-vai-um\", deve ser colocado como digíto mais à esquerda\n",
    "        summands.append(makeInt(partialProd)) # acumula todos os resultados parciais\n",
    "    return sum(summands) # Terminar somando todas as parcelas do produto"
   ]
  },
  {
   "cell_type": "markdown",
   "metadata": {},
   "source": [
    "### Verificar se o algoritmo está correto:\n",
    "\n",
    ">**NOTA:** Quando a testar um novo código, vão querer executar testes mais exaustivos! "
   ]
  },
  {
   "cell_type": "code",
   "execution_count": null,
   "metadata": {},
   "outputs": [],
   "source": [
    "X = 1234\n",
    "Y = 5678\n",
    "print(gradeSchoolMult(X,Y))\n",
    "print(X*Y)"
   ]
  },
  {
   "cell_type": "markdown",
   "metadata": {},
   "source": [
    "### Análise empírica do seu tempo de execução:\n",
    "\n",
    "Verifiquemos **quanto tempo leva a executar** este pedaço de código!  \n",
    "\n",
    "Fazemos várias repetições guardando os tempos de execução e depois fazemos um gráfico.  \n",
    "\n",
    ">**NOTA**: Para a construção dos gráficos, falaremos um pouco mais em pormenor da biblioteca Matplotlib na aula prática\n"
   ]
  },
  {
   "cell_type": "code",
   "execution_count": null,
   "metadata": {},
   "outputs": [],
   "source": [
    "# Geração de pontos (abcissas) para avaliação de tempos \n",
    "nVals = [2**k for k in range(9)]      # valores x = 2^k, depois vemos porquê...\n",
    "nVals += [k*10 for k in range(10)]    # mais alguns valores decimais\n",
    "nVals += [k*50 for k in range(2,11)]  # mais valores mais espaçados...\n",
    "nVals.sort()                          # ordenação de todas estas abcissas\n",
    "\n",
    "# executa a função de teste do tempo de execução, para cada n, testa o algoritmo 5 vezes\n",
    "nValsGS, tValsGS = multInABunch(gradeSchoolMult, nVals, numTrials=5)"
   ]
  },
  {
   "cell_type": "code",
   "execution_count": null,
   "metadata": {
    "scrolled": true
   },
   "outputs": [],
   "source": [
    "# gráfico  \n",
    "\n",
    "plt.plot(nValsGS, tValsGS, color=\"red\")\n",
    "\n"
   ]
  },
  {
   "cell_type": "code",
   "execution_count": null,
   "metadata": {},
   "outputs": [],
   "source": [
    "# Para uma visualização melhor e mais completa DEPOIS de vermos o comportamento da multiplicação, \n",
    "# vamos verificar se a linha vermelha se ajusta a uma quadrática n^2\n",
    "\n",
    "plt.plot(nValsGS, tValsGS, color=\"red\", label=\"Multiplicação da primária\")\n",
    "\n",
    "coeffs = np.polyfit( nValsGS, tValsGS, 2 )   #obter polinómio que melhor se ajusta aos valores do tempo da multiplicação\n",
    "plt.plot(nValsGS, [ coeffs[2] + coeffs[1]*n + coeffs[0]*n**2 for n in nValsGS], color=\"purple\", label=\"polinómio ajustado\")\n",
    "\n",
    "plt.xlabel(\"n\")\n",
    "plt.ylabel(\"Time(ms)\")\n",
    "plt.legend()\n",
    "plt.title(\"Multiplicação de inteiros com n digitos\")\n",
    "\n",
    "print(f'Polinónio ajustado: {coeffs[0]:.4f} x^2 + {coeffs[1]:.4f} x + {coeffs[2]:.4f}')"
   ]
  },
  {
   "cell_type": "markdown",
   "metadata": {},
   "source": [
    "#### Ajusta-se quase perfeitamente!\n",
    "\n",
    "Vamos verificar o que acontece para uma escala maior de variação de abcissas.\n",
    "\n",
    "Estamos a comparar 3 algoritmos:\n",
    "1. Polinómio quadrático ajustado na célula anterior\n",
    "2. Um algoritmo \\\"mágico\\\" de ordem \\~$\\frac{~n^{1.6}}{10} + 100$\n",
    "3. Um \\\"outro algoritmo quadrático\\\" quadrático com os mesmos coeficientes (para comparação) \\~$\\frac{~n^{2}}{10} + 100$"
   ]
  },
  {
   "cell_type": "code",
   "execution_count": null,
   "metadata": {},
   "outputs": [],
   "source": [
    "\n",
    "nValsTmp = range(10000)\n",
    "\n",
    "plt.plot(nValsTmp, [ coeffs[2] + coeffs[1]*n + coeffs[0]*n**2 for n in nValsTmp], color=\"purple\", label=\"o polinómio ajustado\")\n",
    "plt.plot(nValsTmp, [ n**(1.6)/10 + 100 for n in nValsTmp], \"--\" , color=\"green\", label=\"multiplicação via algoritmo \\\"mágico\\\"\")\n",
    "plt.plot(nValsTmp, [ n**(2)/10 + 100 for n in nValsTmp], color=\"red\", label=\"outro alg. quadrático - mesmo coef.s \")\n",
    "plt.xlabel(\"n\")\n",
    "plt.ylabel(\"Time(ms)\")\n",
    "plt.ylim(0,500000)\n",
    "plt.xlim()\n",
    "plt.legend()\n",
    "plt.title(\"Multiplying n-digit integers\")\n",
    "print(f'Polinónio ajustado (a roxo): {coeffs[0]:.4f} x^2 + {coeffs[1]:.4f} x + {coeffs[2]:.4f}')"
   ]
  },
  {
   "cell_type": "markdown",
   "metadata": {},
   "source": [
    "#### Que conclusões podemos tirar da análise do gráfico?"
   ]
  },
  {
   "cell_type": "markdown",
   "metadata": {},
   "source": [
    "Resposta: _\\< a preencher \\>_\n",
    "    \n",
    "    \n",
    "___"
   ]
  },
  {
   "cell_type": "markdown",
   "metadata": {},
   "source": [
    "## *Divide-and-conquer* - Algoritmo recursivo\n",
    "\n",
    "Este algoritmo \"parte\" uma multiplicação de inteiros com $n$ dígitos em $4$ multiplicações de tamanho $n/2$,<br> recursivamente, até conseguir calcular o resultado final."
   ]
  },
  {
   "cell_type": "code",
   "execution_count": null,
   "metadata": {},
   "outputs": [],
   "source": [
    "def recursiveMult( X, Y ):\n",
    "    return recursiveMult_helper( getDigits(X), getDigits(Y) )\n",
    "\n",
    "def recursiveMult_helper( x, y ):\n",
    "    n = max( len(x), len(y) ) \n",
    "    # preenche o inteiro com menor no. de dígitos colocando (enchendo com) zeros à esquerda até atingir o mesmo tamanho\n",
    "    while len(x) < n:\n",
    "        x.insert(0,0)\n",
    "    while len(y) < n:\n",
    "        y.insert(0,0)\n",
    "        \n",
    "    # caso base -> nos requisitos podemos multiplicar diretamente inteiros com um único dígito    \n",
    "    if n == 1:\n",
    "        return x[0]*y[0] \n",
    "    \n",
    "    # caso recursivo -> se n > 1:\n",
    "    mid = round(n/2)\n",
    "    \n",
    "    a = x[:mid]     # ou seja, [ x[0], x[1], ..., x[mid-1] ]\n",
    "    b = x[mid:]      # ou [ x[mid], ..., x[n-1] ]\n",
    "    c = y[:mid]   \n",
    "    d = y[mid:]\n",
    "    \n",
    "    ac = recursiveMult_helper( a , c )  # Calcula recursivamente a . c\n",
    "    ad = recursiveMult_helper( a , d )   # Calcula recursivamente a . d\n",
    "    bc = recursiveMult_helper( b , c )   # Calcula recursivamente b . c\n",
    "    bd = recursiveMult_helper( b , d )    # Calcula recursivamente b . d\n",
    "    \n",
    "    # agora fazemos uns shifts para acomodar cada uma das 4 partes e poder somá-las (ver slides para a explicação) \n",
    "    HH = getDigits(ac) + [ 0 for i in range(2*(n - mid))]     # 10^n . ac\n",
    "    MID = getDigits(ad + bc) + [0 for i in range(n-mid)]  # 10^{n/2} . (ad + bc) \n",
    "    LL = getDigits(bd)                                          # bd\n",
    "    result = makeInt(HH) + makeInt(MID) + makeInt(LL)\n",
    "    \n",
    "    return result"
   ]
  },
  {
   "cell_type": "markdown",
   "metadata": {},
   "source": [
    "### Verificar se o algoritmo está correto\n",
    "Um exemplo para verificar se está a funcionar:\n"
   ]
  },
  {
   "cell_type": "code",
   "execution_count": null,
   "metadata": {},
   "outputs": [],
   "source": [
    "X = 1234\n",
    "Y = 5678\n",
    "print(recursiveMult(X,Y))\n",
    "print(X*Y)"
   ]
  },
  {
   "cell_type": "markdown",
   "metadata": {},
   "source": [
    "### Análise empírica do seu tempo de execução\n",
    "\n",
    "Vamos fazer um pequeno teste:"
   ]
  },
  {
   "cell_type": "code",
   "execution_count": null,
   "metadata": {},
   "outputs": [],
   "source": [
    "nValsRec, tValsRec = multInABunch(recursiveMult, nVals, numTrials=5)"
   ]
  },
  {
   "cell_type": "code",
   "execution_count": null,
   "metadata": {},
   "outputs": [],
   "source": [
    "plt.plot(nValsGS, tValsGS, color=\"red\", label=\"multiplicação da primária\")\n",
    "plt.plot(nValsRec, tValsRec, color=\"blue\", label=\"divide & conquer - recursivo I\")\n",
    "plt.xlabel(\"n\")\n",
    "plt.ylabel(\"Time(ms)\")\n",
    "plt.legend()\n",
    "plt.title(\"Multiplicação de inteiros de n-digitos\")"
   ]
  },
  {
   "cell_type": "markdown",
   "metadata": {},
   "source": [
    "Hmm...difícil de tirar conclusões gerais (e já vimos que n=500 pode ser pequeno demais para generalizar)!\n",
    "\n",
    "(E algo de estranho se passa em alguns dos pontos acima, que por acaso (ou talvez não) acontece nos pontos x = potência de 2 ... ).  \n",
    "\n",
    "Aqui entra a análise matemática, que nos vai permitir compreender como o algoritmo vai funcionar em termos de quantidades de operações para n a aumentar."
   ]
  },
  {
   "cell_type": "markdown",
   "metadata": {
    "collapsed": true
   },
   "source": [
    "## *Divide-and-conquer* - Algoritmo Karatsuba \n",
    "\n",
    "Para os algoritmos anteriores, o número de operações tende a crescer de acordo com uma função quadrática $n^2$.<br>A multiplicação usando o algoritmo de multiplicação de Karatsuba consegue melhorar esta estimativa de quantidade de operações!<br>  Apesar de utilizar também uma estratégia *divide-and-conquer*, diminue de $4$ para $3$ chamadas recursivas de dimensão $n/2$.\n",
    "\n",
    "Agora é a sua vez de implementar e testar o algoritmo!"
   ]
  },
  {
   "cell_type": "code",
   "execution_count": null,
   "metadata": {},
   "outputs": [],
   "source": []
  }
 ],
 "metadata": {
  "kernelspec": {
   "display_name": "Python 3 (ipykernel)",
   "language": "python",
   "name": "python3"
  },
  "language_info": {
   "codemirror_mode": {
    "name": "ipython",
    "version": 3
   },
   "file_extension": ".py",
   "mimetype": "text/x-python",
   "name": "python",
   "nbconvert_exporter": "python",
   "pygments_lexer": "ipython3",
   "version": "3.11.5"
  }
 },
 "nbformat": 4,
 "nbformat_minor": 1
}
