{
 "cells": [
  {
   "cell_type": "markdown",
   "metadata": {
    "id": "VcSInYTElk3Y"
   },
   "source": [
    "    <p style='text-align:right;margin-bottom:18.0pt'><b><span style='font-size:10.0pt;font-family:\n",
    "\"Arial\",sans-serif'>Source:</span></b><span style='font-size:10.0pt;font-family:\n",
    "\"Arial\",sans-serif'> Ana de Almeida, João Cordeiro, Alberto Vilas</span></p>\n",
    "\n",
    "<header style='background-color:#3498DB;padding:18.0px;text-align:center;font-size:22px;color:white;font-family:\"Arial\",sans-serif'>\n",
    "<h2>Iscte – Instituto Universitário de Lisboa </h2>\n",
    "<h2><span style='font-size:20.0pt'>Desenho e Analise de Algoritmos (2023/2024)</span></h2>\n",
    "</header>"
   ]
  },
  {
   "cell_type": "markdown",
   "metadata": {
    "id": "LSFd5DHQlk3a"
   },
   "source": [
    "# Breve introdução ao módulo numpy\n",
    "\n",
    "Este notebook contém alguns exemplos básicos de utilização do módulo numpy.\n",
    "\n",
    "Para começar, basta experimentar executar as células seguintes.\n"
   ]
  },
  {
   "cell_type": "markdown",
   "metadata": {
    "id": "z4wBe6WXlk3b"
   },
   "source": [
    "<font size=\"4\"> <div class=\"alert alert-success\" role=\"alert\"> \n",
    "### Para executar uma célula, basta clicar Shift+Enter.\n",
    "</div></font>"
   ]
  },
  {
   "cell_type": "code",
   "metadata": {
    "ExecuteTime": {
     "end_time": "2025-02-19T21:21:24.247633Z",
     "start_time": "2025-02-19T21:21:24.172450Z"
    }
   },
   "source": [
    "#importar a biblioteca numérica numpy e criar um alias curto\n",
    "import numpy as np"
   ],
   "outputs": [],
   "execution_count": 1
  },
  {
   "cell_type": "code",
   "metadata": {
    "ExecuteTime": {
     "end_time": "2025-02-19T21:23:20.290699Z",
     "start_time": "2025-02-19T21:23:20.285829Z"
    }
   },
   "source": [
    "new_arr = np.array([1, 2, 3]) # cria um novo array de inteiros (ndarray)\n",
    "\n",
    "new_arr"
   ],
   "outputs": [
    {
     "data": {
      "text/plain": [
       "array([1, 2, 3])"
      ]
     },
     "execution_count": 2,
     "metadata": {},
     "output_type": "execute_result"
    }
   ],
   "execution_count": 2
  },
  {
   "cell_type": "code",
   "metadata": {
    "ExecuteTime": {
     "end_time": "2025-02-19T21:24:01.816557Z",
     "start_time": "2025-02-19T21:24:01.814463Z"
    }
   },
   "source": [
    "#Note a diferença entre um print(new_arr) e a instrução anterior\n",
    "print(new_arr)"
   ],
   "outputs": [
    {
     "name": "stdout",
     "output_type": "stream",
     "text": [
      "[1 2 3]\n"
     ]
    }
   ],
   "execution_count": 3
  },
  {
   "cell_type": "code",
   "metadata": {
    "ExecuteTime": {
     "end_time": "2025-02-19T21:24:40.501963Z",
     "start_time": "2025-02-19T21:24:40.497897Z"
    }
   },
   "source": [
    "new_arr2 = np.array([1, 2, 3.0]) # cria um novo array de floats\n",
    "new_arr2"
   ],
   "outputs": [
    {
     "data": {
      "text/plain": [
       "array([1., 2., 3.])"
      ]
     },
     "execution_count": 4,
     "metadata": {},
     "output_type": "execute_result"
    }
   ],
   "execution_count": 4
  },
  {
   "cell_type": "code",
   "metadata": {
    "ExecuteTime": {
     "end_time": "2025-02-19T21:24:48.379504Z",
     "start_time": "2025-02-19T21:24:48.376764Z"
    }
   },
   "source": [
    "# Mais uma vez, note a diferença visual entre um print(new_arr) e a instrução anterior\n",
    "print(new_arr2)"
   ],
   "outputs": [
    {
     "name": "stdout",
     "output_type": "stream",
     "text": [
      "[1. 2. 3.]\n"
     ]
    }
   ],
   "execution_count": 5
  },
  {
   "cell_type": "code",
   "metadata": {
    "ExecuteTime": {
     "end_time": "2025-02-19T21:25:06.176323Z",
     "start_time": "2025-02-19T21:25:06.173575Z"
    }
   },
   "source": [
    "new_a3 = np.zeros(5, dtype=int) # cria array de tamanho 5 com zeros inteiros\n",
    "print(new_a3)"
   ],
   "outputs": [
    {
     "name": "stdout",
     "output_type": "stream",
     "text": [
      "[0 0 0 0 0]\n"
     ]
    }
   ],
   "execution_count": 8
  },
  {
   "cell_type": "code",
   "metadata": {
    "ExecuteTime": {
     "end_time": "2025-02-19T21:25:36.097890Z",
     "start_time": "2025-02-19T21:25:36.094776Z"
    }
   },
   "source": [
    "new_a3[0] = 3 # alteração de valor em indíce\n",
    "new_a3"
   ],
   "outputs": [
    {
     "data": {
      "text/plain": [
       "array([3, 0, 0, 0, 0])"
      ]
     },
     "execution_count": 9,
     "metadata": {},
     "output_type": "execute_result"
    }
   ],
   "execution_count": 9
  },
  {
   "cell_type": "code",
   "metadata": {
    "ExecuteTime": {
     "end_time": "2025-02-19T21:25:43.275222Z",
     "start_time": "2025-02-19T21:25:43.272850Z"
    }
   },
   "source": [
    "new_a4 = np.ones(7, dtype=int) # cria array de tamanho 7 com 1s \n",
    "print(new_a4)"
   ],
   "outputs": [
    {
     "name": "stdout",
     "output_type": "stream",
     "text": [
      "[1 1 1 1 1 1 1]\n"
     ]
    }
   ],
   "execution_count": 10
  },
  {
   "cell_type": "code",
   "metadata": {
    "ExecuteTime": {
     "end_time": "2025-02-19T21:25:49.189135Z",
     "start_time": "2025-02-19T21:25:49.186076Z"
    }
   },
   "source": [
    "n = 10\n",
    "new_a5 = np.arange(n) # cria array com inteiros de 0 a (n-1)\n",
    "print(new_a5)"
   ],
   "outputs": [
    {
     "name": "stdout",
     "output_type": "stream",
     "text": [
      "[0 1 2 3 4 5 6 7 8 9]\n"
     ]
    }
   ],
   "execution_count": 11
  },
  {
   "cell_type": "code",
   "metadata": {
    "ExecuteTime": {
     "end_time": "2025-02-19T21:27:37.886674Z",
     "start_time": "2025-02-19T21:27:37.883046Z"
    }
   },
   "source": [
    "i = 2\n",
    "j = 3\n",
    "step = 0.2\n",
    "new_a6 = np.arange(i, j, step)  # cria array com floats (devido ao passo ser um float) de i a (j-1) com variação step \n",
    "new_a6"
   ],
   "outputs": [
    {
     "data": {
      "text/plain": [
       "array([2. , 2.2, 2.4, 2.6, 2.8])"
      ]
     },
     "execution_count": 12,
     "metadata": {},
     "output_type": "execute_result"
    }
   ],
   "execution_count": 12
  },
  {
   "cell_type": "code",
   "metadata": {
    "ExecuteTime": {
     "end_time": "2025-02-19T21:27:54.073823Z",
     "start_time": "2025-02-19T21:27:54.070819Z"
    }
   },
   "source": [
    "len(new_a6)"
   ],
   "outputs": [
    {
     "data": {
      "text/plain": [
       "5"
      ]
     },
     "execution_count": 13,
     "metadata": {},
     "output_type": "execute_result"
    }
   ],
   "execution_count": 13
  },
  {
   "cell_type": "markdown",
   "metadata": {},
   "source": [
    " >A estrutura de *array* é indexada a partir do **zero** e até **n-1** onde n = len(list). "
   ]
  },
  {
   "cell_type": "code",
   "metadata": {
    "ExecuteTime": {
     "end_time": "2025-02-19T21:28:05.582128Z",
     "start_time": "2025-02-19T21:28:05.578984Z"
    }
   },
   "source": [
    "new_m = np.array([(1, 2), (3, 4)]) # cria um novo array de duas dimensões - matriz -de inteiros\n",
    "new_m"
   ],
   "outputs": [
    {
     "data": {
      "text/plain": [
       "array([[1, 2],\n",
       "       [3, 4]])"
      ]
     },
     "execution_count": 14,
     "metadata": {},
     "output_type": "execute_result"
    }
   ],
   "execution_count": 14
  },
  {
   "cell_type": "markdown",
   "metadata": {},
   "source": [
    ">As funções de criação de matrizes 2D, por exemplo, numpy.zeros, numpy.eye, numpy.diag e numpy.vander, numpy.random definem propriedades de matrizes especiais representadas como matrizes 2D. Experimente-as..."
   ]
  },
  {
   "cell_type": "code",
   "metadata": {
    "ExecuteTime": {
     "end_time": "2025-02-19T21:28:20.765188Z",
     "start_time": "2025-02-19T21:28:20.761912Z"
    }
   },
   "source": [
    "np.zeros((2, 3))"
   ],
   "outputs": [
    {
     "data": {
      "text/plain": [
       "array([[0., 0., 0.],\n",
       "       [0., 0., 0.]])"
      ]
     },
     "execution_count": 15,
     "metadata": {},
     "output_type": "execute_result"
    }
   ],
   "execution_count": 15
  },
  {
   "cell_type": "markdown",
   "metadata": {},
   "source": [
    ">As funções de criação de ndarray, por exemplo, numpy.ones, numpy.zeros e random, definem arrays com base na forma desejada. "
   ]
  },
  {
   "cell_type": "code",
   "metadata": {
    "ExecuteTime": {
     "end_time": "2025-02-19T21:28:30.759465Z",
     "start_time": "2025-02-19T21:28:30.755673Z"
    }
   },
   "source": [
    "np.ones((3, 2, 1)) # matriz 3-D (tensor); veja com atenção os índices..."
   ],
   "outputs": [
    {
     "data": {
      "text/plain": [
       "array([[[1.],\n",
       "        [1.]],\n",
       "\n",
       "       [[1.],\n",
       "        [1.]],\n",
       "\n",
       "       [[1.],\n",
       "        [1.]]])"
      ]
     },
     "execution_count": 16,
     "metadata": {},
     "output_type": "execute_result"
    }
   ],
   "execution_count": 16
  },
  {
   "cell_type": "markdown",
   "metadata": {},
   "source": [
    ">De seguida, são criadas 2 matrizes com valores aleatórios com as formas 2x2 e 2x4x3 (formas (2,3) e (2,4,3)), respetivamente. \n",
    "A semente é 45 para que possam replicar estes mesmos números pseudo-aleatórios:"
   ]
  },
  {
   "metadata": {},
   "cell_type": "code",
   "outputs": [
    {
     "data": {
      "text/plain": [
       "array([[0.57313066, 0.52849115],\n",
       "       [0.76365024, 0.81169277]])"
      ]
     },
     "execution_count": 17,
     "metadata": {},
     "output_type": "execute_result"
    }
   ],
   "execution_count": 17,
   "source": [
    "#primeiro importar o módulo necessário\n",
    "import numpy.random\n",
    "\n",
    "#criar uma instância do gerador (seed igual a 45)\n",
    "rng = np.random.default_rng(45)\n",
    "\n",
    "#depois, criar as matrizes:\n",
    "rng.random((2,2))"
   ]
  },
  {
   "metadata": {},
   "cell_type": "code",
   "outputs": [],
   "execution_count": null,
   "source": "rng.random((2,4,3))"
  },
  {
   "metadata": {},
   "cell_type": "code",
   "outputs": [],
   "execution_count": null,
   "source": [
    "#agora uma matriz com valores aleatórios no intervalo [0,4[\n",
    "rng.integers(0, 5, size=(2,3,4))"
   ]
  },
  {
   "metadata": {},
   "cell_type": "markdown",
   "source": [
    "<font size=\"4\"> <div class=\"alert alert-success\" role=\"alert\">\n",
    "    Esta é uma boa altura para recordar que a documentação oficial para os módulos do *numpy*, pode ser encontrada em https://numpy.org/doc/stable/user/absolute_beginners.html\n",
    "    \n",
    "E, já agora, um livro on-line (Think Python 2, 2nd edition): http://greenteapress.com/thinkpython2/html/index.html\n",
    "    \n",
    "</div></font>"
   ]
  },
  {
   "metadata": {},
   "cell_type": "markdown",
   "source": [
    "## Algoritmo mistério em Python\n",
    "\n",
    "Siga as instruções de código seguintes e veja se consegue entender o que se passa. Vamos usar este código na próxima semana!"
   ]
  },
  {
   "metadata": {},
   "cell_type": "code",
   "outputs": [],
   "execution_count": 18,
   "source": [
    "# Um algoritmo que ordena a list A\n",
    "# Este código altera diretamente A\n",
    "# Verifique que percebe como funciona!\n",
    "def AlgoritmoMisterio(A):\n",
    "    for i in range(1,len(A)):\n",
    "        current = A[i]\n",
    "        j = i-1\n",
    "        while j >= 0 and A[j] > current:\n",
    "            A[j+1] = A[j]\n",
    "            j -= 1\n",
    "        A[j+1] = current"
   ]
  },
  {
   "metadata": {},
   "cell_type": "code",
   "outputs": [
    {
     "name": "stdout",
     "output_type": "stream",
     "text": [
      "[ 8  3  4  1  6  7 11  5]\n",
      "[ 1  3  4  5  6  7  8 11]\n"
     ]
    }
   ],
   "execution_count": 19,
   "source": [
    "# Vamos fazer um teste simples (controlado)\n",
    "A = np.array([8,3,4,1,6,7,11,5])\n",
    "print(A)\n",
    "AlgoritmoMisterio(A)\n",
    "print(A)"
   ]
  },
  {
   "metadata": {},
   "cell_type": "code",
   "outputs": [
    {
     "name": "stdout",
     "output_type": "stream",
     "text": [
      "[ 7  1  3  6  4  5  8 11]\n",
      "[ 1  3  4  5  6  7  8 11]\n"
     ]
    }
   ],
   "execution_count": 20,
   "source": [
    "C=rng.permutation(A)\n",
    "print(C)\n",
    "AlgoritmoMisterio(C)\n",
    "print(C)"
   ]
  },
  {
   "metadata": {},
   "cell_type": "code",
   "outputs": [
    {
     "name": "stdout",
     "output_type": "stream",
     "text": [
      "Python sort in-place: [1, 3, 4, 5, 6]\n",
      "Python sort fazendo uma cópia: [1, 3, 4, 5, 6]\n",
      "Input original: [5, 3, 4, 1, 6]\n",
      "[1, 3, 4, 5, 6]\n",
      "Python sort sem alterar o input: [1, 3, 4, 5, 6]\n",
      "Input original: [5, 3, 4, 1, 6]\n"
     ]
    }
   ],
   "execution_count": 21,
   "source": [
    "# O Python tem métodos implementados para ordenar lists\n",
    "A = [5,3,4,1,6]\n",
    "A.sort()  # Python's built-in sort also sorts A in-place\n",
    "print('Python sort in-place:', A)\n",
    "\n",
    "# Se não quisermos alterar a list A, podemos resolver:\n",
    "A = [5,3,4,1,6] # partir novamente de um A desordenado\n",
    "B = A[:] # copia A para B\n",
    "B.sort()\n",
    "print('Python sort fazendo uma cópia:', B)\n",
    "\n",
    "print('Input original:', A)\n",
    "\n",
    "print(B)\n",
    "\n",
    "#ou podemos usar a função sorted(), que funciona com qualquer iterável:\n",
    "C = sorted(A)\n",
    "print('Python sort sem alterar o input:', C)\n",
    "print('Input original:', A)\n"
   ]
  },
  {
   "metadata": {
    "ExecuteTime": {
     "end_time": "2025-02-19T21:59:18.849907Z",
     "start_time": "2025-02-19T21:59:18.847328Z"
    }
   },
   "cell_type": "code",
   "source": [
    "def fiboR(n):\n",
    "    if n==0 : return 0\n",
    "    if n==1 : return 1\n",
    "    return fiboR(n-2) + fiboR(n-1)\n",
    "    \n",
    "fiboR(5)"
   ],
   "outputs": [
    {
     "data": {
      "text/plain": [
       "5"
      ]
     },
     "execution_count": 33,
     "metadata": {},
     "output_type": "execute_result"
    }
   ],
   "execution_count": 33
  }
 ],
 "metadata": {
  "colab": {
   "name": "preLecture2.ipynb",
   "provenance": []
  },
  "kernelspec": {
   "display_name": "Python 3",
   "language": "python",
   "name": "python3"
  },
  "language_info": {
   "codemirror_mode": {
    "name": "ipython",
    "version": 3
   },
   "file_extension": ".py",
   "mimetype": "text/x-python",
   "name": "python",
   "nbconvert_exporter": "python",
   "pygments_lexer": "ipython3",
   "version": "3.7.6"
  }
 },
 "nbformat": 4,
 "nbformat_minor": 1
}
