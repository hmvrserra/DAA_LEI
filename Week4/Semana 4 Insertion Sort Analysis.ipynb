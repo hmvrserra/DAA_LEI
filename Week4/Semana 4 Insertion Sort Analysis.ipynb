{
 "cells": [
  {
   "cell_type": "markdown",
   "metadata": {},
   "source": [
    "<p style='text-align:right;margin-bottom:18.0pt'><b><span style='font-size:10.0pt;font-family:\n",
    "\"Arial\",sans-serif'>Source:</span></b><span style='font-size:10.0pt;font-family:\n",
    "\"Arial\",sans-serif'> Mary Wootters + Nima Anari + Moses Charikar<b> | Last\n",
    "update: </b>Caroline Conti</span></p>\n",
    "\n",
    "<header style='background-color:#3498DB;padding:18.0px;text-align:center;font-size:22px;color:white;font-family:\"Arial\",sans-serif'>\n",
    "<h2>Iscte – Instituto Universitário de Lisboa </h2>\n",
    "<h2><span style='font-size:20.0pt'>Desenho e Analise de Algoritmos (2023/2024)</span></h2>\n",
    "</header>\n",
    " \n",
    "\n",
    "\n",
    "# Insertion Sort - Análise empírica"
   ]
  },
  {
   "cell_type": "code",
   "metadata": {
    "ExecuteTime": {
     "end_time": "2025-03-12T21:20:34.649839Z",
     "start_time": "2025-03-12T21:20:33.995781Z"
    }
   },
   "source": [
    "#Start with needed imports\n",
    "%matplotlib inline\n",
    "import matplotlib.pyplot as plt\n",
    "import numpy as np\n",
    "from random import shuffle\n",
    "from testar import tryItABunch,tryItABunch2"
   ],
   "outputs": [],
   "execution_count": 1
  },
  {
   "cell_type": "markdown",
   "metadata": {},
   "source": [
    "##  Insertion Sort\n",
    "\n",
    "Neste notebook, vamos testar duas implementações do insertion sort e verificar empiricamente a sua eficiência.\n",
    "\n",
    "#### Versão 1 - Implementação com cópia da sequência dada\n",
    "\n",
    "Nesta versão, o array de entrada não é modificado, por isso é necessário um array auxiliar para fazer o sort.\n",
    "\n",
    "Tente perceber o código e verifique as razões para esta implementação não ser muito eficiente..."
   ]
  },
  {
   "cell_type": "code",
   "metadata": {
    "ExecuteTime": {
     "end_time": "2025-03-12T21:20:45.950092Z",
     "start_time": "2025-03-12T21:20:45.947274Z"
    }
   },
   "source": [
    "def naiveInsertionSort(A):\n",
    "    B = [None for i in range(len(A))] # B is a blank list of the same length as A\n",
    "    for x in A:\n",
    "        for i in range(len(B)):\n",
    "            if B[i] == None or B[i] > x:\n",
    "                # then x goes in spot i, and we should move everything over.\n",
    "                j = len(B)-1\n",
    "                while j > i:\n",
    "                    B[j] = B[j-1]\n",
    "                    j -= 1\n",
    "                B[i] = x\n",
    "                break # okay we are done placing x\n",
    "    return B"
   ],
   "outputs": [],
   "execution_count": 2
  },
  {
   "cell_type": "markdown",
   "metadata": {},
   "source": [
    "Pequena verificação que está a funcionar:"
   ]
  },
  {
   "cell_type": "code",
   "metadata": {
    "ExecuteTime": {
     "end_time": "2025-03-12T21:20:52.467821Z",
     "start_time": "2025-03-12T21:20:52.465210Z"
    }
   },
   "source": [
    "A = [6,4,3,8,5]\n",
    "B = naiveInsertionSort(A)\n",
    "print(B)\n",
    "#This assertion can be made using a native Python comand: look it up!"
   ],
   "outputs": [
    {
     "name": "stdout",
     "output_type": "stream",
     "text": [
      "[3, 4, 5, 6, 8]\n"
     ]
    }
   ],
   "execution_count": 3
  },
  {
   "cell_type": "markdown",
   "metadata": {},
   "source": [
    "#### Versão 2 - Implementação com ordenação in-place\n",
    "\n",
    "Nesta versão, a ordenação é feita \"in-place\" (o que é o mais habitual)."
   ]
  },
  {
   "cell_type": "code",
   "metadata": {
    "ExecuteTime": {
     "end_time": "2025-03-12T21:21:01.115887Z",
     "start_time": "2025-03-12T21:21:01.112864Z"
    }
   },
   "source": [
    "def insertionSort(A):\n",
    "    for i in range(1,len(A)):\n",
    "        current = A[i]\n",
    "        j = i-1\n",
    "        while j >= 0 and A[j] > current:\n",
    "            A[j+1] = A[j]\n",
    "            j -= 1\n",
    "        A[j+1] = current"
   ],
   "outputs": [],
   "execution_count": 4
  },
  {
   "cell_type": "markdown",
   "metadata": {},
   "source": [
    "Pequena verificação que está a funcionar:"
   ]
  },
  {
   "cell_type": "code",
   "metadata": {
    "ExecuteTime": {
     "end_time": "2025-03-12T21:21:06.082481Z",
     "start_time": "2025-03-12T21:21:06.080307Z"
    }
   },
   "source": [
    "A = [6,4,3,8,5]\n",
    "insertionSort(A)\n",
    "print(A)"
   ],
   "outputs": [
    {
     "name": "stdout",
     "output_type": "stream",
     "text": [
      "[3, 4, 5, 6, 8]\n"
     ]
    }
   ],
   "execution_count": 5
  },
  {
   "cell_type": "markdown",
   "metadata": {},
   "source": [
    "Podemos testar com vários inputs!\n",
    "\n",
    ">**Nota**: esta não é a *prova* formal (nem informal) de correção!\n",
    "Apenas estamos a testar com instanciações de inputs diferentes)"
   ]
  },
  {
   "cell_type": "code",
   "execution_count": null,
   "metadata": {},
   "outputs": [],
   "source": [
    "def is_sorted(A):\n",
    "    for i in range(len(A) - 1):\n",
    "        if A[i] > A[i+1]:\n",
    "            return False\n",
    "    return True\n",
    "\n",
    "A = [1,2,3,4,5,6,7,8,9,10]\n",
    "for trial in range(100):\n",
    "    shuffle(A)\n",
    "    insertionSort(A)\n",
    "    if is_sorted(A):\n",
    "        print('YES IT IS SORTED!')"
   ]
  },
  {
   "cell_type": "markdown",
   "metadata": {},
   "source": [
    "Bom, parecem funcionar. Para ter a certeza, podemos fazer a correção utilizando o método de indução discutido na aula teórica desta semana.  \n",
    "\n"
   ]
  },
  {
   "cell_type": "markdown",
   "metadata": {},
   "source": [
    "#### Análise empírica\n",
    "\n",
    "Para verificar qual é o mais rápido, vamos testar os dois algoritmos variando o tamanho do array no intervalo de $n=[50,1050]$.\n",
    "\n",
    "Cada teste é repetido 10 vezes e é guardada a média do tempo de execução.\n",
    "\n",
    "Verifique mais detalhes dos testes realizados..."
   ]
  },
  {
   "cell_type": "code",
   "metadata": {
    "ExecuteTime": {
     "end_time": "2025-03-12T21:22:07.703546Z",
     "start_time": "2025-03-12T21:22:05.302017Z"
    }
   },
   "source": [
    "from testar import tryItABunch2\n",
    "nValuesNaive, tValuesNaive = tryItABunch2( naiveInsertionSort, startN = 50, endN = 1050, stepSize=50, numTrials=10, listMax = 10 )\n",
    "nValues, tValues = tryItABunch2( insertionSort, startN = 50, endN = 1050, stepSize=50, numTrials=5, listMax = 10) "
   ],
   "outputs": [],
   "execution_count": 6
  },
  {
   "cell_type": "markdown",
   "metadata": {},
   "source": [
    "Visualização dos resultados dos testes, comparando as duas implementações (naiveInsertionSort, Insertionsort):"
   ]
  },
  {
   "cell_type": "code",
   "metadata": {
    "scrolled": true,
    "ExecuteTime": {
     "end_time": "2025-03-12T21:22:07.748664Z",
     "start_time": "2025-03-12T21:22:07.704461Z"
    }
   },
   "source": [
    "fig = plt.figure(figsize=(4, 3), layout='constrained')\n",
    "plt.plot(nValuesNaive, tValuesNaive, color=\"red\", label=\"Naive version\")\n",
    "plt.plot(nValues, tValues, color=\"blue\", label=\"Less naive version\")\n",
    "plt.xlabel(\"n\")\n",
    "plt.ylabel(\"Time(ms)\")\n",
    "plt.legend()\n",
    "plt.title(\"Naive vs. non-naive insertion sort\")"
   ],
   "outputs": [
    {
     "data": {
      "text/plain": [
       "Text(0.5, 1.0, 'Naive vs. non-naive insertion sort')"
      ]
     },
     "execution_count": 7,
     "metadata": {},
     "output_type": "execute_result"
    }
   ],
   "execution_count": 7
  },
  {
   "cell_type": "markdown",
   "metadata": {},
   "source": [
    "Estude o número de comparações (no pior dos casos) de cada algoritmo para explicar este comportamento."
   ]
  },
  {
   "cell_type": "code",
   "execution_count": null,
   "metadata": {},
   "outputs": [],
   "source": []
  }
 ],
 "metadata": {
  "kernelspec": {
   "display_name": "Python 3 (ipykernel)",
   "language": "python",
   "name": "python3"
  },
  "language_info": {
   "codemirror_mode": {
    "name": "ipython",
    "version": 3
   },
   "file_extension": ".py",
   "mimetype": "text/x-python",
   "name": "python",
   "nbconvert_exporter": "python",
   "pygments_lexer": "ipython3",
   "version": "3.11.5"
  }
 },
 "nbformat": 4,
 "nbformat_minor": 2
}
